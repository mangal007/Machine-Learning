{
 "cells": [
  {
   "cell_type": "code",
   "execution_count": 1,
   "id": "d8341fc8",
   "metadata": {},
   "outputs": [],
   "source": [
    "import pandas as pd\n",
    "import numpy as np"
   ]
  },
  {
   "cell_type": "code",
   "execution_count": 2,
   "id": "3317b829",
   "metadata": {},
   "outputs": [
    {
     "data": {
      "text/html": [
       "<div>\n",
       "<style scoped>\n",
       "    .dataframe tbody tr th:only-of-type {\n",
       "        vertical-align: middle;\n",
       "    }\n",
       "\n",
       "    .dataframe tbody tr th {\n",
       "        vertical-align: top;\n",
       "    }\n",
       "\n",
       "    .dataframe thead th {\n",
       "        text-align: right;\n",
       "    }\n",
       "</style>\n",
       "<table border=\"1\" class=\"dataframe\">\n",
       "  <thead>\n",
       "    <tr style=\"text-align: right;\">\n",
       "      <th></th>\n",
       "      <th>Age</th>\n",
       "      <th>Attrition</th>\n",
       "      <th>BusinessTravel</th>\n",
       "      <th>DailyRate</th>\n",
       "      <th>Department</th>\n",
       "      <th>DistanceFromHome</th>\n",
       "      <th>Education</th>\n",
       "      <th>EducationField</th>\n",
       "      <th>EmployeeCount</th>\n",
       "      <th>EmployeeNumber</th>\n",
       "      <th>...</th>\n",
       "      <th>RelationshipSatisfaction</th>\n",
       "      <th>StandardHours</th>\n",
       "      <th>StockOptionLevel</th>\n",
       "      <th>TotalWorkingYears</th>\n",
       "      <th>TrainingTimesLastYear</th>\n",
       "      <th>WorkLifeBalance</th>\n",
       "      <th>YearsAtCompany</th>\n",
       "      <th>YearsInCurrentRole</th>\n",
       "      <th>YearsSinceLastPromotion</th>\n",
       "      <th>YearsWithCurrManager</th>\n",
       "    </tr>\n",
       "  </thead>\n",
       "  <tbody>\n",
       "    <tr>\n",
       "      <th>0</th>\n",
       "      <td>41</td>\n",
       "      <td>Yes</td>\n",
       "      <td>Travel_Rarely</td>\n",
       "      <td>1102</td>\n",
       "      <td>Sales</td>\n",
       "      <td>1</td>\n",
       "      <td>2</td>\n",
       "      <td>Life Sciences</td>\n",
       "      <td>1</td>\n",
       "      <td>1</td>\n",
       "      <td>...</td>\n",
       "      <td>1</td>\n",
       "      <td>80</td>\n",
       "      <td>0</td>\n",
       "      <td>8</td>\n",
       "      <td>0</td>\n",
       "      <td>1</td>\n",
       "      <td>6</td>\n",
       "      <td>4</td>\n",
       "      <td>0</td>\n",
       "      <td>5</td>\n",
       "    </tr>\n",
       "    <tr>\n",
       "      <th>1</th>\n",
       "      <td>49</td>\n",
       "      <td>No</td>\n",
       "      <td>Travel_Frequently</td>\n",
       "      <td>279</td>\n",
       "      <td>Research &amp; Development</td>\n",
       "      <td>8</td>\n",
       "      <td>1</td>\n",
       "      <td>Life Sciences</td>\n",
       "      <td>1</td>\n",
       "      <td>2</td>\n",
       "      <td>...</td>\n",
       "      <td>4</td>\n",
       "      <td>80</td>\n",
       "      <td>1</td>\n",
       "      <td>10</td>\n",
       "      <td>3</td>\n",
       "      <td>3</td>\n",
       "      <td>10</td>\n",
       "      <td>7</td>\n",
       "      <td>1</td>\n",
       "      <td>7</td>\n",
       "    </tr>\n",
       "    <tr>\n",
       "      <th>2</th>\n",
       "      <td>37</td>\n",
       "      <td>Yes</td>\n",
       "      <td>Travel_Rarely</td>\n",
       "      <td>1373</td>\n",
       "      <td>Research &amp; Development</td>\n",
       "      <td>2</td>\n",
       "      <td>2</td>\n",
       "      <td>Other</td>\n",
       "      <td>1</td>\n",
       "      <td>3</td>\n",
       "      <td>...</td>\n",
       "      <td>2</td>\n",
       "      <td>80</td>\n",
       "      <td>0</td>\n",
       "      <td>7</td>\n",
       "      <td>3</td>\n",
       "      <td>3</td>\n",
       "      <td>0</td>\n",
       "      <td>0</td>\n",
       "      <td>0</td>\n",
       "      <td>0</td>\n",
       "    </tr>\n",
       "    <tr>\n",
       "      <th>3</th>\n",
       "      <td>33</td>\n",
       "      <td>No</td>\n",
       "      <td>Travel_Frequently</td>\n",
       "      <td>1392</td>\n",
       "      <td>Research &amp; Development</td>\n",
       "      <td>3</td>\n",
       "      <td>4</td>\n",
       "      <td>Life Sciences</td>\n",
       "      <td>1</td>\n",
       "      <td>4</td>\n",
       "      <td>...</td>\n",
       "      <td>3</td>\n",
       "      <td>80</td>\n",
       "      <td>0</td>\n",
       "      <td>8</td>\n",
       "      <td>3</td>\n",
       "      <td>3</td>\n",
       "      <td>8</td>\n",
       "      <td>7</td>\n",
       "      <td>3</td>\n",
       "      <td>0</td>\n",
       "    </tr>\n",
       "    <tr>\n",
       "      <th>4</th>\n",
       "      <td>27</td>\n",
       "      <td>No</td>\n",
       "      <td>Travel_Rarely</td>\n",
       "      <td>591</td>\n",
       "      <td>Research &amp; Development</td>\n",
       "      <td>2</td>\n",
       "      <td>1</td>\n",
       "      <td>Medical</td>\n",
       "      <td>1</td>\n",
       "      <td>5</td>\n",
       "      <td>...</td>\n",
       "      <td>4</td>\n",
       "      <td>80</td>\n",
       "      <td>1</td>\n",
       "      <td>6</td>\n",
       "      <td>3</td>\n",
       "      <td>3</td>\n",
       "      <td>2</td>\n",
       "      <td>2</td>\n",
       "      <td>2</td>\n",
       "      <td>2</td>\n",
       "    </tr>\n",
       "  </tbody>\n",
       "</table>\n",
       "<p>5 rows × 35 columns</p>\n",
       "</div>"
      ],
      "text/plain": [
       "   Age Attrition     BusinessTravel  DailyRate              Department  \\\n",
       "0   41       Yes      Travel_Rarely       1102                   Sales   \n",
       "1   49        No  Travel_Frequently        279  Research & Development   \n",
       "2   37       Yes      Travel_Rarely       1373  Research & Development   \n",
       "3   33        No  Travel_Frequently       1392  Research & Development   \n",
       "4   27        No      Travel_Rarely        591  Research & Development   \n",
       "\n",
       "   DistanceFromHome  Education EducationField  EmployeeCount  EmployeeNumber  \\\n",
       "0                 1          2  Life Sciences              1               1   \n",
       "1                 8          1  Life Sciences              1               2   \n",
       "2                 2          2          Other              1               3   \n",
       "3                 3          4  Life Sciences              1               4   \n",
       "4                 2          1        Medical              1               5   \n",
       "\n",
       "   ...  RelationshipSatisfaction StandardHours  StockOptionLevel  \\\n",
       "0  ...                         1            80                 0   \n",
       "1  ...                         4            80                 1   \n",
       "2  ...                         2            80                 0   \n",
       "3  ...                         3            80                 0   \n",
       "4  ...                         4            80                 1   \n",
       "\n",
       "   TotalWorkingYears  TrainingTimesLastYear WorkLifeBalance  YearsAtCompany  \\\n",
       "0                  8                      0               1               6   \n",
       "1                 10                      3               3              10   \n",
       "2                  7                      3               3               0   \n",
       "3                  8                      3               3               8   \n",
       "4                  6                      3               3               2   \n",
       "\n",
       "  YearsInCurrentRole  YearsSinceLastPromotion  YearsWithCurrManager  \n",
       "0                  4                        0                     5  \n",
       "1                  7                        1                     7  \n",
       "2                  0                        0                     0  \n",
       "3                  7                        3                     0  \n",
       "4                  2                        2                     2  \n",
       "\n",
       "[5 rows x 35 columns]"
      ]
     },
     "execution_count": 2,
     "metadata": {},
     "output_type": "execute_result"
    }
   ],
   "source": [
    "df = pd.read_csv('HR_Employee_Attrition_Data.csv')\n",
    "df.head()"
   ]
  },
  {
   "cell_type": "code",
   "execution_count": 3,
   "id": "06c6899b",
   "metadata": {},
   "outputs": [
    {
     "data": {
      "text/plain": [
       "Age                         0\n",
       "Attrition                   0\n",
       "BusinessTravel              0\n",
       "DailyRate                   0\n",
       "Department                  0\n",
       "DistanceFromHome            0\n",
       "Education                   0\n",
       "EducationField              0\n",
       "EmployeeCount               0\n",
       "EmployeeNumber              0\n",
       "EnvironmentSatisfaction     0\n",
       "Gender                      0\n",
       "HourlyRate                  0\n",
       "JobInvolvement              0\n",
       "JobLevel                    0\n",
       "JobRole                     0\n",
       "JobSatisfaction             0\n",
       "MaritalStatus               0\n",
       "MonthlyIncome               0\n",
       "MonthlyRate                 0\n",
       "NumCompaniesWorked          0\n",
       "Over18                      0\n",
       "OverTime                    0\n",
       "PercentSalaryHike           0\n",
       "PerformanceRating           0\n",
       "RelationshipSatisfaction    0\n",
       "StandardHours               0\n",
       "StockOptionLevel            0\n",
       "TotalWorkingYears           0\n",
       "TrainingTimesLastYear       0\n",
       "WorkLifeBalance             0\n",
       "YearsAtCompany              0\n",
       "YearsInCurrentRole          0\n",
       "YearsSinceLastPromotion     0\n",
       "YearsWithCurrManager        0\n",
       "dtype: int64"
      ]
     },
     "execution_count": 3,
     "metadata": {},
     "output_type": "execute_result"
    }
   ],
   "source": [
    "df.isnull().sum()"
   ]
  },
  {
   "cell_type": "code",
   "execution_count": 4,
   "id": "39fadf18",
   "metadata": {},
   "outputs": [],
   "source": [
    "df.drop('EmployeeCount', axis = 1, inplace = True)"
   ]
  },
  {
   "cell_type": "code",
   "execution_count": 5,
   "id": "d61dc347",
   "metadata": {},
   "outputs": [],
   "source": [
    "df.set_index('EmployeeNumber', inplace = True)"
   ]
  },
  {
   "cell_type": "code",
   "execution_count": 7,
   "id": "a689729c",
   "metadata": {},
   "outputs": [
    {
     "data": {
      "text/plain": [
       "Index(['Age', 'Attrition', 'BusinessTravel', 'DailyRate', 'Department',\n",
       "       'DistanceFromHome', 'Education', 'EducationField',\n",
       "       'EnvironmentSatisfaction', 'Gender', 'HourlyRate', 'JobInvolvement',\n",
       "       'JobLevel', 'JobRole', 'JobSatisfaction', 'MaritalStatus',\n",
       "       'MonthlyIncome', 'MonthlyRate', 'NumCompaniesWorked', 'Over18',\n",
       "       'OverTime', 'PercentSalaryHike', 'PerformanceRating',\n",
       "       'RelationshipSatisfaction', 'StandardHours', 'StockOptionLevel',\n",
       "       'TotalWorkingYears', 'TrainingTimesLastYear', 'WorkLifeBalance',\n",
       "       'YearsAtCompany', 'YearsInCurrentRole', 'YearsSinceLastPromotion',\n",
       "       'YearsWithCurrManager'],\n",
       "      dtype='object')"
      ]
     },
     "execution_count": 7,
     "metadata": {},
     "output_type": "execute_result"
    }
   ],
   "source": [
    "df.columns"
   ]
  },
  {
   "cell_type": "code",
   "execution_count": 8,
   "id": "e5832645",
   "metadata": {},
   "outputs": [],
   "source": [
    "from sklearn import preprocessing\n",
    "from sklearn.tree import DecisionTreeClassifier\n",
    "from sklearn.metrics import confusion_matrix\n",
    "from sklearn.model_selection import train_test_split, GridSearchCV"
   ]
  },
  {
   "cell_type": "code",
   "execution_count": 9,
   "id": "b6d0402b",
   "metadata": {},
   "outputs": [],
   "source": [
    "contact_df = df"
   ]
  },
  {
   "cell_type": "code",
   "execution_count": 10,
   "id": "e584e900",
   "metadata": {},
   "outputs": [],
   "source": [
    "def preprocessor(frame):\n",
    "  res_df = frame.copy()\n",
    "  le = preprocessing.LabelEncoder()\n",
    "\n",
    "  res_df['Attrition'] = le.fit_transform(res_df['Attrition'])\n",
    "  res_df['BusinessTravel'] = le.fit_transform(res_df['BusinessTravel'])\n",
    "  res_df['Department'] = le.fit_transform(res_df['Department'])\n",
    "  res_df['EducationField'] = le.fit_transform(res_df['EducationField'])\n",
    "  res_df['Gender'] = le.fit_transform(res_df['Gender'])\n",
    "  res_df['JobRole'] = le.fit_transform(res_df['JobRole'])\n",
    "  res_df['MaritalStatus'] = le.fit_transform(res_df['MaritalStatus'])\n",
    "  res_df['Over18'] = le.fit_transform(res_df['Over18'])\n",
    "  res_df['OverTime'] = le.fit_transform(res_df['OverTime'])\n",
    "  return res_df"
   ]
  },
  {
   "cell_type": "code",
   "execution_count": 11,
   "id": "6e7561a0",
   "metadata": {},
   "outputs": [],
   "source": [
    "encoded_df = preprocessor(contact_df)\n",
    "x = encoded_df.drop(['Attrition'], axis = 1).values\n",
    "y = encoded_df['Attrition'].values"
   ]
  },
  {
   "cell_type": "code",
   "execution_count": 12,
   "id": "f925383d",
   "metadata": {},
   "outputs": [],
   "source": [
    "x_train, x_test, y_train, y_test = train_test_split(x, y, test_size = 0.3)"
   ]
  },
  {
   "cell_type": "code",
   "execution_count": 13,
   "id": "ccf6adbb",
   "metadata": {},
   "outputs": [
    {
     "name": "stdout",
     "output_type": "stream",
     "text": [
      "traing Score:  1.0\n",
      "testing Score:  0.9365079365079365\n"
     ]
    }
   ],
   "source": [
    "model_dt = DecisionTreeClassifier(random_state=1)\n",
    "model_dt.fit(x_train, y_train)\n",
    "model_dt_score_train = model_dt.score(x_train, y_train)\n",
    "model_dt_score_test = model_dt.score(x_test, y_test)\n",
    "print(\"traing Score: \", model_dt_score_train)\n",
    "print(\"testing Score: \", model_dt_score_test)"
   ]
  },
  {
   "cell_type": "code",
   "execution_count": 15,
   "id": "f03ef7f2",
   "metadata": {},
   "outputs": [
    {
     "name": "stdout",
     "output_type": "stream",
     "text": [
      "Best Parameters using grid search: \n",
      " {'criterion': 'gini', 'max_depth': 15, 'min_samples_leaf': 1, 'min_samples_split': 2}\n",
      "Time taken in grid search:  1.91\n"
     ]
    }
   ],
   "source": [
    "import time\n",
    "np.random.seed(42)\n",
    "start = time.time()\n",
    "\n",
    "param_dist = {'max_depth': [14, 15, 16],\n",
    "              'criterion': ['gini'], \n",
    "              'min_samples_split':[2, 4], \n",
    "              'min_samples_leaf':[1, 3]}\n",
    "\n",
    "cv_rf = GridSearchCV(model_dt, cv = 10,\n",
    "                     param_grid=param_dist, \n",
    "                     n_jobs = 2)\n",
    "\n",
    "cv_rf.fit(x_train, y_train)\n",
    "print('Best Parameters using grid search: \\n', cv_rf.best_params_)\n",
    "end = time.time()\n",
    "print('Time taken in grid search: {0: .2f}'.format(end - start))"
   ]
  },
  {
   "cell_type": "code",
   "execution_count": 17,
   "id": "bf7aec09",
   "metadata": {},
   "outputs": [
    {
     "name": "stdout",
     "output_type": "stream",
     "text": [
      "<class 'pandas.core.frame.DataFrame'>\n",
      "Int64Index: 2940 entries, 1 to 2940\n",
      "Data columns (total 33 columns):\n",
      " #   Column                    Non-Null Count  Dtype \n",
      "---  ------                    --------------  ----- \n",
      " 0   Age                       2940 non-null   int64 \n",
      " 1   Attrition                 2940 non-null   object\n",
      " 2   BusinessTravel            2940 non-null   object\n",
      " 3   DailyRate                 2940 non-null   int64 \n",
      " 4   Department                2940 non-null   object\n",
      " 5   DistanceFromHome          2940 non-null   int64 \n",
      " 6   Education                 2940 non-null   int64 \n",
      " 7   EducationField            2940 non-null   object\n",
      " 8   EnvironmentSatisfaction   2940 non-null   int64 \n",
      " 9   Gender                    2940 non-null   object\n",
      " 10  HourlyRate                2940 non-null   int64 \n",
      " 11  JobInvolvement            2940 non-null   int64 \n",
      " 12  JobLevel                  2940 non-null   int64 \n",
      " 13  JobRole                   2940 non-null   object\n",
      " 14  JobSatisfaction           2940 non-null   int64 \n",
      " 15  MaritalStatus             2940 non-null   object\n",
      " 16  MonthlyIncome             2940 non-null   int64 \n",
      " 17  MonthlyRate               2940 non-null   int64 \n",
      " 18  NumCompaniesWorked        2940 non-null   int64 \n",
      " 19  Over18                    2940 non-null   object\n",
      " 20  OverTime                  2940 non-null   object\n",
      " 21  PercentSalaryHike         2940 non-null   int64 \n",
      " 22  PerformanceRating         2940 non-null   int64 \n",
      " 23  RelationshipSatisfaction  2940 non-null   int64 \n",
      " 24  StandardHours             2940 non-null   int64 \n",
      " 25  StockOptionLevel          2940 non-null   int64 \n",
      " 26  TotalWorkingYears         2940 non-null   int64 \n",
      " 27  TrainingTimesLastYear     2940 non-null   int64 \n",
      " 28  WorkLifeBalance           2940 non-null   int64 \n",
      " 29  YearsAtCompany            2940 non-null   int64 \n",
      " 30  YearsInCurrentRole        2940 non-null   int64 \n",
      " 31  YearsSinceLastPromotion   2940 non-null   int64 \n",
      " 32  YearsWithCurrManager      2940 non-null   int64 \n",
      "dtypes: int64(24), object(9)\n",
      "memory usage: 780.9+ KB\n"
     ]
    }
   ],
   "source": [
    "df.info()"
   ]
  },
  {
   "cell_type": "code",
   "execution_count": 18,
   "id": "8f7c0196",
   "metadata": {},
   "outputs": [
    {
     "name": "stdout",
     "output_type": "stream",
     "text": [
      "training Score:  0.9990281827016521\n",
      "testing Score:  0.9365079365079365\n"
     ]
    }
   ],
   "source": [
    "model_dt = DecisionTreeClassifier(random_state=1, max_depth=15)\n",
    "model_dt.fit(x_train, y_train)\n",
    "model_dt_score_train = model_dt.score(x_train, y_train)\n",
    "model_dt_score_test = model_dt.score(x_test, y_test)\n",
    "print(\"training Score: \", model_dt_score_train)\n",
    "print(\"testing Score: \", model_dt_score_test)"
   ]
  },
  {
   "cell_type": "code",
   "execution_count": 19,
   "id": "1e493933",
   "metadata": {},
   "outputs": [
    {
     "data": {
      "text/plain": [
       "array([0.94331066, 0.92743764, 0.9478458 , 0.91609977, 0.92743764])"
      ]
     },
     "execution_count": 19,
     "metadata": {},
     "output_type": "execute_result"
    }
   ],
   "source": [
    "# Cross Validation :- Shuffle of Test and Train data to check score...usng cross validation\n",
    "from sklearn.model_selection import ShuffleSplit\n",
    "from sklearn.model_selection import cross_val_score\n",
    "\n",
    "cv = ShuffleSplit(n_splits = 5, test_size=0.3, random_state= 42)\n",
    "\n",
    "cross_val_score(DecisionTreeClassifier(), x, y, cv=cv)"
   ]
  },
  {
   "cell_type": "code",
   "execution_count": 20,
   "id": "19cd4642",
   "metadata": {},
   "outputs": [],
   "source": [
    "from sklearn.metrics import accuracy_score"
   ]
  },
  {
   "cell_type": "code",
   "execution_count": 21,
   "id": "0c706b4a",
   "metadata": {},
   "outputs": [
    {
     "name": "stdout",
     "output_type": "stream",
     "text": [
      "[[717  25]\n",
      " [ 31 109]]\n"
     ]
    }
   ],
   "source": [
    "predictions = model_dt.predict(x_test)\n",
    "print(confusion_matrix(y_test, predictions))"
   ]
  },
  {
   "cell_type": "code",
   "execution_count": 22,
   "id": "4d7756b8",
   "metadata": {},
   "outputs": [
    {
     "name": "stdout",
     "output_type": "stream",
     "text": [
      "Feature: 0, Score: 0.04734\n",
      "Feature: 1, Score: 0.00410\n",
      "Feature: 2, Score: 0.09846\n",
      "Feature: 3, Score: 0.00329\n",
      "Feature: 4, Score: 0.01625\n",
      "Feature: 5, Score: 0.00866\n",
      "Feature: 6, Score: 0.02483\n",
      "Feature: 7, Score: 0.03294\n",
      "Feature: 8, Score: 0.00798\n",
      "Feature: 9, Score: 0.05947\n",
      "Feature: 10, Score: 0.04753\n",
      "Feature: 11, Score: 0.00239\n",
      "Feature: 12, Score: 0.01122\n",
      "Feature: 13, Score: 0.03888\n",
      "Feature: 14, Score: 0.01998\n",
      "Feature: 15, Score: 0.09020\n",
      "Feature: 16, Score: 0.04812\n",
      "Feature: 17, Score: 0.06152\n",
      "Feature: 18, Score: 0.00000\n",
      "Feature: 19, Score: 0.05666\n",
      "Feature: 20, Score: 0.01590\n",
      "Feature: 21, Score: 0.00000\n",
      "Feature: 22, Score: 0.01121\n",
      "Feature: 23, Score: 0.00000\n",
      "Feature: 24, Score: 0.02802\n",
      "Feature: 25, Score: 0.08952\n",
      "Feature: 26, Score: 0.03589\n",
      "Feature: 27, Score: 0.03352\n",
      "Feature: 28, Score: 0.01858\n",
      "Feature: 29, Score: 0.01932\n",
      "Feature: 30, Score: 0.02978\n",
      "Feature: 31, Score: 0.03843\n"
     ]
    },
    {
     "data": {
      "image/png": "[encoded data removed]",
      "text/plain": [
       "<Figure size 432x288 with 1 Axes>"
      ]
     },
     "metadata": {
      "needs_background": "light"
     },
     "output_type": "display_data"
    }
   ],
   "source": [
    "# decision tree for feature importance on a classification problem\n",
    "from sklearn.datasets import make_classification\n",
    "from sklearn.tree import DecisionTreeClassifier\n",
    "from matplotlib import pyplot\n",
    "# get importance\n",
    "importance = model_dt.feature_importances_\n",
    "# summarize feature importance\n",
    "for i,v in enumerate(importance):\n",
    "\tprint('Feature: %0d, Score: %.5f' % (i,v))\n",
    "# plot feature importance\n",
    "pyplot.bar([x for x in range(len(importance))], importance)\n",
    "pyplot.show()"
   ]
  },
  {
   "cell_type": "markdown",
   "id": "6d93da99",
   "metadata": {},
   "source": [
    "# Following are the reason for the attrition of employees\n",
    "1. Daily rate of Employees\n",
    "2. Monthly Income\n",
    "3. Total Year of Experience\n",
    "4. Hourly rate\n",
    "\n",
    "# Company need to increase salaries of their employee to reduce attrition rate"
   ]
  },
  {
   "cell_type": "code",
   "execution_count": null,
   "id": "646c8e12",
   "metadata": {},
   "outputs": [],
   "source": []
  },
  {
   "cell_type": "code",
   "execution_count": null,
   "id": "92fc02bc",
   "metadata": {},
   "outputs": [],
   "source": []
  },
  {
   "cell_type": "code",
   "execution_count": null,
   "id": "b4b2ebec",
   "metadata": {},
   "outputs": [],
   "source": []
  }
 ],
 "metadata": {
  "kernelspec": {
   "display_name": "Python 3 (ipykernel)",
   "language": "python",
   "name": "python3"
  },
  "language_info": {
   "codemirror_mode": {
    "name": "ipython",
    "version": 3
   },
   "file_extension": ".py",
   "mimetype": "text/x-python",
   "name": "python",
   "nbconvert_exporter": "python",
   "pygments_lexer": "ipython3",
   "version": "3.9.7"
  }
 },
 "nbformat": 4,
 "nbformat_minor": 5
}
